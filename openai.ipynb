{
  "nbformat": 4,
  "nbformat_minor": 0,
  "metadata": {
    "colab": {
      "provenance": []
    },
    "kernelspec": {
      "name": "python3",
      "display_name": "Python 3"
    },
    "language_info": {
      "name": "python"
    }
  },
  "cells": [
    {
      "cell_type": "markdown",
      "source": [
        "# New Section"
      ],
      "metadata": {
        "id": "Z2AJ0_RsgYMP"
      }
    },
    {
      "cell_type": "code",
      "source": [],
      "metadata": {
        "id": "kIChM1X3g41m"
      },
      "execution_count": null,
      "outputs": []
    },
    {
      "cell_type": "code",
      "execution_count": 15,
      "metadata": {
        "id": "YqjIfFrDgJk4"
      },
      "outputs": [],
      "source": []
    },
    {
      "cell_type": "code",
      "source": [
        "from openai import OpenAI\n",
        "\n",
        "client = OpenAI(\n",
        "  api_key=\"****************************\"\n",
        ")\n",
        "\n",
        "completion = client.chat.completions.create(\n",
        "  model=\"gpt-4o-mini\",\n",
        "  store=True,\n",
        "  messages=[\n",
        "    {\"role\": \"user\", \"content\": \"What is agentic ai and RAG. Can you explain in details in tabular format?\"}\n",
        "  ]\n",
        ")\n",
        "\n",
        "print(completion.choices[0].message);\n"
      ],
      "metadata": {
        "colab": {
          "base_uri": "https://localhost:8080/"
        },
        "id": "UVZSf8VKl74Y",
        "outputId": "95e2cccd-5fa0-4c82-94e9-f827d2a3741b"
      },
      "execution_count": 15,
      "outputs": [
        {
          "output_type": "stream",
          "name": "stdout",
          "text": [
            "ChatCompletionMessage(content='Certainly! Below is a detailed explanation of \"Agentic AI\" and \"RAG\" (Retrieval-Augmented Generation) in a tabular format.\\n\\n| **Concept**         | **Description**                                                                                             |\\n|----------------------|-------------------------------------------------------------------------------------------------------------|\\n| **Agentic AI**       | - Refers to artificial intelligence systems that possess the capability to make autonomous decisions and take actions based on their environment and learned experiences.  |\\n|                      | - These systems can operate in a goal-directed manner, adapting their strategies to reach specific objectives. |\\n|                      | - Agentic AI can learn from interactions and feedback, improving over time as it encounters new data or situations.  |\\n|                      | - Examples include autonomous vehicles, personal assistants like Siri or Alexa that conduct tasks, and robots in various industries. |\\n|                      | - Challenges include ethical considerations, safety, control, and the implications of granting decision-making autonomy to AI systems. |\\n|                      | - Research in this area intersects with fields like psychology, sociology, and philosophy concerning agency and autonomy. |\\n\\n| **Concept**          | **Description**                                                                                              |\\n|----------------------|--------------------------------------------------------------------------------------------------------------|\\n| **RAG (Retrieval-Augmented Generation)** | - A hybrid model that combines retrieval-based strategies with generative language models.                         |\\n|                      | - Involves two key components: a retriever that fetches relevant information from a knowledge base, and a generator that produces coherent and contextually appropriate text based on this information. |\\n|                      | - This approach enhances the quality and relevancy of generated text by grounding it in actual data instead of solely relying on the model\\'s learned parameters. |\\n|                      | - Useful for tasks that require up-to-date information, factual accuracy, and context, such as question answering, summarization, and conversational agents. |\\n|                      | - RAG models can improve robustness and reduce the likelihood of generating hallucinated or irrelevant content since the generation process is closely tied to retrieved data. |\\n|                      | - Implementation often involves frameworks such as Transformers, where the retrieval and generation processes can be executed in tandem or in a feedback loop. |\\n\\n### Summary:\\n- **Agentic AI** focuses on the autonomous decision-making and adaptability of AI systems.\\n- **RAG** is a framework that enhances generative models by incorporating relevant data retrieval, improving the accuracy and relevance of generated outputs. \\n\\nBoth concepts play distinct but significant roles in the evolution of artificial intelligence capabilities and applications.', refusal=None, role='assistant', audio=None, function_call=None, tool_calls=None)\n"
          ]
        }
      ]
    },
    {
      "cell_type": "code",
      "source": [],
      "metadata": {
        "id": "8ijcO_LmneV-"
      },
      "execution_count": null,
      "outputs": []
    },
    {
      "cell_type": "code",
      "source": [
        "print(completion.choices[0].message.content)"
      ],
      "metadata": {
        "colab": {
          "base_uri": "https://localhost:8080/"
        },
        "id": "TKt1dJmEnYMH",
        "outputId": "c10c80bf-9918-4792-c944-72165899e586"
      },
      "execution_count": 13,
      "outputs": [
        {
          "output_type": "stream",
          "name": "stdout",
          "text": [
            "Certainly! Below is a detailed comparison in tabular format of **Agentic AI** and **Retrieval-Augmented Generation (RAG)**.\n",
            "\n",
            "| Aspect                  | Agentic AI                                         | Retrieval-Augmented Generation (RAG) |\n",
            "|-------------------------|----------------------------------------------------|---------------------------------------|\n",
            "| **Definition**          | AI systems that can take actions or make decisions autonomously based on their understanding of the environment and goals. | A hybrid AI architecture that combines generative models with retrieval mechanisms to enhance response quality and factual accuracy. |\n",
            "| **Functionality**       | Capable of executing tasks, engaging in problem-solving, and adapting to changes in information over time. | Generates textual responses by first retrieving relevant information from a database and then using that information to produce coherent, contextually relevant content. |\n",
            "| **Goals**               | To create systems that can imitate human-like agency, allowing them to plan, reason, and act independently. | To improve the relevance and accuracy of generated text by incorporating external information beyond the training data. |\n",
            "| **Methodology**         | Often employs techniques from reinforcement learning, planning algorithms, and decision-making models. | Uses neural networks (like Transformers) alongside retrieval systems (like TF-IDF, BM25) to source relevant data from large corpora. |\n",
            "| **Examples**            | Autonomous robots, virtual agents in video games, self-driving cars. | Question-answering systems, chatbots that can provide up-to-date and accurate responses by fetching information from external databases. |\n",
            "| **Strengths**           | High adaptability, efficiency in complex problem-solving, and capability to operate in dynamic environments. | Enhanced factual accuracy, increased depth of responses, and ability to leverage up-to-date information not seen during training. |\n",
            "| **Weaknesses**          | Can be computationally intensive; ethical concerns surrounding autonomous actions and decision-making. | May still suffer from hallucinations or irrelevant information if the retrieval process is not perfect, and dependent on the quality of the retrieved data. |\n",
            "| **Applications**        | Robotics, autonomous systems, smart assistants in customer service, and more. | Chatbots, information retrieval systems, knowledge assistants, etc. |\n",
            "| **Interactivity**       | Often have a higher level of interactivity and can adapt to user actions in real-time. | Interaction relies on the generated response being contextualized based on the retrieved information rather than autonomous actions. |\n",
            "| **Data Dependency**     | Often needs large amounts of data for training on varied scenarios and environments to learn effectively. | Relies on a combination of pre-trained models and external data sources to guide the generation process. |\n",
            "| **Current Research**    | Focuses on making Agentic AI safer, ethical, and more reliable in decision-making contexts. | Ongoing studies aim to refine retrieval methods, improve the integration of retrieved info, and minimize common issues like hallucination. |\n",
            "\n",
            "This table outlines the key characteristics and differences between Agentic AI and RAG, offering a clear understanding of their functionalities, advantages, and applications.\n"
          ]
        }
      ]
    }
  ]
}